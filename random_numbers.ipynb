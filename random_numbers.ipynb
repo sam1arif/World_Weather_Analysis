{
 "cells": [
  {
   "cell_type": "code",
   "execution_count": 1,
   "id": "c81890c7",
   "metadata": {},
   "outputs": [],
   "source": [
    "import random"
   ]
  },
  {
   "cell_type": "code",
   "execution_count": 2,
   "id": "b196c1c6",
   "metadata": {},
   "outputs": [
    {
     "data": {
      "text/plain": [
       "-45"
      ]
     },
     "execution_count": 2,
     "metadata": {},
     "output_type": "execute_result"
    }
   ],
   "source": [
    "random.randint(-90, 90)"
   ]
  },
  {
   "cell_type": "code",
   "execution_count": 3,
   "id": "e00b86a5",
   "metadata": {},
   "outputs": [
    {
     "data": {
      "text/plain": [
       "0.7409576445875803"
      ]
     },
     "execution_count": 3,
     "metadata": {},
     "output_type": "execute_result"
    }
   ],
   "source": [
    "# random.random() will print a number between 0 and 1.0.\n",
    "random.random()"
   ]
  },
  {
   "cell_type": "code",
   "execution_count": 6,
   "id": "06b31c34",
   "metadata": {},
   "outputs": [
    {
     "data": {
      "text/plain": [
       "[-0.3930331395410974,\n",
       " -2.815276068816584,\n",
       " -57.68734612332194,\n",
       " 57.99911555796353,\n",
       " -63.488039620825866,\n",
       " 1.7268984949007904,\n",
       " -68.35595209814963,\n",
       " -9.524505119877167,\n",
       " -67.45182126080141,\n",
       " 15.718876195023608]"
      ]
     },
     "execution_count": 6,
     "metadata": {},
     "output_type": "execute_result"
    }
   ],
   "source": [
    "# Get random latitudes between -90 and 89 using while loop\n",
    "x = 1\n",
    "latitudes = []\n",
    "while x < 11:\n",
    "    random_lat = random.randint(-90, 89) + random.random()\n",
    "    latitudes.append(random_lat)\n",
    "    x += 1\n",
    "latitudes"
   ]
  },
  {
   "cell_type": "code",
   "execution_count": 8,
   "id": "aa08ed0b",
   "metadata": {},
   "outputs": [
    {
     "data": {
      "text/plain": [
       "-75"
      ]
     },
     "execution_count": 8,
     "metadata": {},
     "output_type": "execute_result"
    }
   ],
   "source": [
    "random.randrange(-90, 90, step=1)"
   ]
  },
  {
   "cell_type": "code",
   "execution_count": 9,
   "id": "02939918",
   "metadata": {},
   "outputs": [
    {
     "data": {
      "text/plain": [
       "52.64254821813171"
      ]
     },
     "execution_count": 9,
     "metadata": {},
     "output_type": "execute_result"
    }
   ],
   "source": [
    "random.uniform(-90, 90)"
   ]
  },
  {
   "cell_type": "code",
   "execution_count": 10,
   "id": "c4525990",
   "metadata": {},
   "outputs": [],
   "source": [
    "# Import NumPy library. NumPy library has a built-in random module inside, so no need to import random after NumPy.\n",
    "import numpy as np"
   ]
  },
  {
   "cell_type": "code",
   "execution_count": 12,
   "id": "b02bded2",
   "metadata": {},
   "outputs": [
    {
     "data": {
      "text/plain": [
       "array([-87.82957306, -80.51595711,  55.43004624, -10.93166856,\n",
       "       -74.58354274,  10.08593908,   4.16227217, -52.37225823,\n",
       "        51.71380054, -38.89224241, -48.69268868,  -5.42893705,\n",
       "        48.28055863, -60.98721595,  72.61615554,  72.51349615,\n",
       "       -24.48288574, -56.36661373, -24.65528402,  36.51233358,\n",
       "        14.09151757,   7.68183585,  40.38887878,  40.58718278,\n",
       "        31.2223309 , -26.38998938,  -3.55531906, -13.06374179,\n",
       "        63.43425366,  69.5649374 ,  -7.88879421, -83.0551416 ,\n",
       "       -78.09884047,  66.48703023,  52.31769866, -28.93995493,\n",
       "       -34.03551919, -27.28153097, -69.86344992, -24.95791385,\n",
       "       -47.98421253,  -4.93965019,  -3.29190763,   0.66517785,\n",
       "        62.74186986, -83.01648884, -78.1769252 ,  86.459117  ,\n",
       "        40.22127492, -46.52267535])"
      ]
     },
     "execution_count": 12,
     "metadata": {},
     "output_type": "execute_result"
    }
   ],
   "source": [
    "np.random.uniform(low=-90.000, high=90.000, size=50)\n",
    "\n",
    "# The size within the parentheses will print the number of times we want it to. "
   ]
  },
  {
   "cell_type": "code",
   "execution_count": 13,
   "id": "1718e49e",
   "metadata": {},
   "outputs": [],
   "source": [
    "%timeit\n",
    "\n",
    "# Import timeit.\n",
    "import timeit"
   ]
  },
  {
   "cell_type": "code",
   "execution_count": 15,
   "id": "c5b5f9f8",
   "metadata": {},
   "outputs": [
    {
     "name": "stdout",
     "output_type": "stream",
     "text": [
      "13.3 µs ± 581 ns per loop (mean ± std. dev. of 7 runs, 100,000 loops each)\n"
     ]
    }
   ],
   "source": [
    "%timeit np.random.uniform(-90.000, 90.000, size=1500)"
   ]
  },
  {
   "cell_type": "code",
   "execution_count": 16,
   "id": "cde294e4",
   "metadata": {},
   "outputs": [
    {
     "name": "stdout",
     "output_type": "stream",
     "text": [
      "1.33 ms ± 4 µs per loop (mean ± std. dev. of 7 runs, 1,000 loops each)\n"
     ]
    }
   ],
   "source": [
    "def latitudes(size):\n",
    "    latitudes = []\n",
    "    x = 0\n",
    "    while x < (size):\n",
    "        random_lat = random.randint(-90, 90) + random.random()\n",
    "        latitudes.append(random_lat)\n",
    "        x += 1\n",
    "    return latitudes\n",
    "\n",
    "# Call the function with 1500\n",
    "%timeit latitudes(1500)"
   ]
  },
  {
   "cell_type": "code",
   "execution_count": null,
   "id": "4de4c5b0",
   "metadata": {},
   "outputs": [],
   "source": [
    "# The output is 1.33 milliseconds while the output for np.random.uniform() was 13.4 microseconds.\n",
    "# Using the np.random.uniform() method is 1,000 times faster than doing a function (like in cell 16[def latitudes...])"
   ]
  },
  {
   "cell_type": "code",
   "execution_count": null,
   "id": "f43bb0aa",
   "metadata": {},
   "outputs": [],
   "source": []
  }
 ],
 "metadata": {
  "kernelspec": {
   "display_name": "Python 3 (ipykernel)",
   "language": "python",
   "name": "python3"
  },
  "language_info": {
   "codemirror_mode": {
    "name": "ipython",
    "version": 3
   },
   "file_extension": ".py",
   "mimetype": "text/x-python",
   "name": "python",
   "nbconvert_exporter": "python",
   "pygments_lexer": "ipython3",
   "version": "3.9.7"
  }
 },
 "nbformat": 4,
 "nbformat_minor": 5
}
